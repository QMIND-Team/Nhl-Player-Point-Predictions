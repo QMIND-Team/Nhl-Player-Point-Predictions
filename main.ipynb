{
 "cells": [
  {
   "cell_type": "markdown",
   "metadata": {},
   "source": [
    "# NHL Player Point Predictions #\n",
    "This notebook will delve into the steps we took to make predictions on NHL player point totals.\n",
    "\n",
    "Project Definition:\n",
    "Want to take three consecutive years of advanced hockey stats as attributes and predict a players fourth year point total. \n",
    "\n",
    "We have created files within our repository with functions to help structure the project. We will call these functions regularly throughout the notebook. \n",
    "\n",
    "We will now import the required libraries and files:"
   ]
  },
  {
   "cell_type": "code",
   "execution_count": 8,
   "metadata": {},
   "outputs": [],
   "source": [
    "import pandas as pd\n"
   ]
  },
  {
   "cell_type": "markdown",
   "metadata": {},
   "source": [
    "# Data Analysis #\n",
    "We first wanted to spend time understanding our data, cleaning it and restructuring it. We will do this mainly with pandas to manipulate the dataframe and seaborn to help visualize with plots and graphs."
   ]
  },
  {
   "cell_type": "code",
   "execution_count": 9,
   "metadata": {},
   "outputs": [],
   "source": [
    "# load the dataframe using the getdata() function. Display information about the dataset \n",
    "# - size, shape, description, attributes, numerical data, etc"
   ]
  },
  {
   "cell_type": "code",
   "execution_count": 10,
   "metadata": {},
   "outputs": [],
   "source": [
    "# Do some playing around witht the data set, discover null values, outliers, normalize data, etc."
   ]
  },
  {
   "cell_type": "code",
   "execution_count": 11,
   "metadata": {},
   "outputs": [],
   "source": [
    "# Make correlation graphs, plots, distibutions, any type of cool visualization plots for the data."
   ]
  },
  {
   "cell_type": "code",
   "execution_count": 12,
   "metadata": {},
   "outputs": [],
   "source": [
    "# Formalize a few datasets we want to run through some models (all attributes, top ten best correlated, etc.)\n",
    "# - split into train and test set, target, ready for training"
   ]
  },
  {
   "cell_type": "markdown",
   "metadata": {},
   "source": [
    "# Model Training and Testing # \n",
    "We will look into some different types of models, all of which have seperate properties that may help increase the accuracy of our predictions."
   ]
  },
  {
   "cell_type": "code",
   "execution_count": 13,
   "metadata": {},
   "outputs": [],
   "source": [
    "# Initialize some models and talk about the types, lose functions, layers, activation functions, etc"
   ]
  },
  {
   "cell_type": "code",
   "execution_count": 14,
   "metadata": {},
   "outputs": [],
   "source": [
    "# Train the models with multiple datsets\n",
    "# Observe the accuracy while training.\n",
    "# Test models"
   ]
  },
  {
   "cell_type": "markdown",
   "metadata": {},
   "source": [
    "Observations of the results. Make tweaks and adjustments to the models/datasets"
   ]
  },
  {
   "cell_type": "code",
   "execution_count": 15,
   "metadata": {},
   "outputs": [],
   "source": [
    "# Tweak models and data, re train, observe and test"
   ]
  },
  {
   "cell_type": "code",
   "execution_count": 16,
   "metadata": {},
   "outputs": [],
   "source": [
    "# Document fundings, tweak more, pick the best model and train/test another time"
   ]
  },
  {
   "cell_type": "markdown",
   "metadata": {},
   "source": [
    "# Evaluation of Findings #\n",
    "In this section we will visualize the results, do an analysis on the models to determine what worked best and what may not have and finish with concluding remarks and waht we learned."
   ]
  },
  {
   "cell_type": "code",
   "execution_count": 17,
   "metadata": {},
   "outputs": [],
   "source": [
    "# Visualize the results as best we can, graph prediction vs actual, etc."
   ]
  },
  {
   "cell_type": "code",
   "execution_count": 18,
   "metadata": {},
   "outputs": [],
   "source": [
    "# Make a prediction for a few player of point totals for the end of this season?"
   ]
  },
  {
   "cell_type": "code",
   "execution_count": 19,
   "metadata": {},
   "outputs": [],
   "source": [
    "# Conclude, what did we learn, what worked, what can we improve, etc."
   ]
  }
 ],
 "metadata": {
  "kernelspec": {
   "display_name": "Python 3",
   "language": "python",
   "name": "python3"
  },
  "language_info": {
   "codemirror_mode": {
    "name": "ipython",
    "version": 3
   },
   "file_extension": ".py",
   "mimetype": "text/x-python",
   "name": "python",
   "nbconvert_exporter": "python",
   "pygments_lexer": "ipython3",
   "version": "3.6.6"
  }
 },
 "nbformat": 4,
 "nbformat_minor": 2
}
